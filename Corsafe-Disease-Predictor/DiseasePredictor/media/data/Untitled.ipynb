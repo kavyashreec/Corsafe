{
 "cells": [
  {
   "cell_type": "code",
   "execution_count": 1,
   "metadata": {},
   "outputs": [],
   "source": [
    "import pickle"
   ]
  },
  {
   "cell_type": "code",
   "execution_count": 2,
   "metadata": {},
   "outputs": [],
   "source": [
    "common ={'fatigue': 1596, 'vomiting': 1580, 'high_fever': 1125, 'loss_of_appetite': 956, 'nausea': 949, 'headache': 935, 'abdominal_pain': 857, 'yellowish_skin': 755, 'yellowing_of_eyes': 679, 'chills': 660, 'skin_rash': 648, 'malaise': 583, 'chest_pain': 577, 'joint_pain': 565, 'itching': 562, 'sweating': 558, 'dark_urine': 472, 'diarrhoea': 467, 'cough': 466, 'muscle_pain': 395, 'irritability': 394, 'excessive_hunger': 383, 'lethargy': 378, 'weight_loss': 377, 'breathlessness': 371, 'mild_fever': 295, 'phlegm': 294}\n",
    "uncommon = {'swelled_lymph_nodes': 288, 'blurred_and_distorted_vision': 283, 'loss_of_balance': 282, 'dizziness': 276, 'abnormal_menstruation': 200, 'fast_heart_rate': 194, 'muscle_weakness': 194, 'depression': 194, 'red_spots_over_body': 194, 'restlessness': 189, 'constipation': 189, 'obesity': 189, 'family_history': 189, 'mood_swings': 188, 'back_pain': 188, 'neck_pain': 188, 'stiff_neck': 188, 'swelling_joints': 188, 'painful_walking': 188, 'stomach_pain': 184, 'continuous_sneezing': 183, 'acidity': 183, 'indigestion': 183, 'burning_micturition': 177, 'increased_appetite': 101, 'polyuria': 101, 'receiving_blood_transfusion': 101, 'receiving_unsterile_injections': 101, 'pain_behind_the_eyes': 100, 'throat_irritation': 100, 'redness_of_eyes': 100, 'sinus_pressure': 100, 'runny_nose': 100, 'congestion': 100, 'enlarged_thyroid': 100, 'brittle_nails': 100, 'swollen_extremeties': 100, 'slurred_speech': 100, 'loss_of_smell': 100, 'rusty_sputum': 100, 'coma': 100, 'stomach_bleeding': 100, 'blood_in_sputum': 100, 'palpitations': 100, 'irregular_sugar_level': 95, 'yellow_urine': 95, 'passage_of_gases': 95, 'internal_itching': 95, 'toxic_look_(typhos)': 95, 'belly_pain': 95, 'mucoid_sputum': 95, 'weight_gain': 94, 'anxiety': 94, 'cold_hands_and_feets': 94, 'acute_liver_failure': 94, 'swelling_of_stomach': 94, 'pain_during_bowel_movements': 94, 'pain_in_anal_region': 94, 'bloody_stool': 94, 'irritation_in_anus': 94, 'cramps': 94, 'bruising': 94, 'swollen_legs': 94, 'puffy_face_and_eyes': 94, 'drying_and_tingling_lips': 94, 'knee_pain': 94, 'hip_joint_pain': 94, 'movement_stiffness': 94, 'unsteadiness': 94, 'bladder_discomfort': 94, 'continuous_feel_of_urine': 94, 'altered_sensorium': 94, 'lack_of_concentration': 94, 'visual_disturbances': 94, 'distention_of_abdomen': 94, 'history_of_alcohol_consumption': 94, 'fluid_overload.1': 94, 'prominent_veins_on_calf': 94, 'skin_peeling': 94, 'silver_like_dusting': 94, 'small_dents_in_nails': 94, 'inflammatory_nails': 94, 'blister': 94, 'red_sore_around_nose': 94, 'yellow_crust_ooze': 94, 'nodal_skin_eruptions': 89, 'shivering': 89, 'ulcers_on_tongue': 89, 'muscle_wasting': 89, 'spotting_ urination': 89, 'patches_in_throat': 89, 'sunken_eyes': 89, 'dehydration': 89, 'extra_marital_contacts': 89, 'dischromic _patches': 89, 'watering_from_eyes': 89, 'weakness_in_limbs': 88, 'swollen_blood_vessels': 88, 'spinning_movements': 88, 'weakness_of_one_body_side': 88, 'pus_filled_pimples': 88, 'blackheads': 88, 'scurring': 88, 'foul_smell_of urine': 82, 'fluid_overload': 0}\n",
    "all_ordered = {'itching': 0, 'skin_rash': 1, 'nodal_skin_eruptions': 2, 'continuous_sneezing': 3, 'shivering': 4, 'chills': 5, 'joint_pain': 6, 'stomach_pain': 7, 'acidity': 8, 'ulcers_on_tongue': 9, 'muscle_wasting': 10, 'vomiting': 11, 'burning_micturition': 12, 'spotting_ urination': 13, 'fatigue': 14, 'weight_gain': 15, 'anxiety': 16, 'cold_hands_and_feets': 17, 'mood_swings': 18, 'weight_loss': 19, 'restlessness': 20, 'lethargy': 21, 'patches_in_throat': 22, 'irregular_sugar_level': 23, 'cough': 24, 'high_fever': 25, 'sunken_eyes': 26, 'breathlessness': 27, 'sweating': 28, 'dehydration': 29, 'indigestion': 30, 'headache': 31, 'yellowish_skin': 32, 'dark_urine': 33, 'nausea': 34, 'loss_of_appetite': 35, 'pain_behind_the_eyes': 36, 'back_pain': 37, 'constipation': 38, 'abdominal_pain': 39, 'diarrhoea': 40, 'mild_fever': 41, 'yellow_urine': 42, 'yellowing_of_eyes': 43, 'acute_liver_failure': 44, 'fluid_overload': 45, 'swelling_of_stomach': 46, 'swelled_lymph_nodes': 47, 'malaise': 48, 'blurred_and_distorted_vision': 49, 'phlegm': 50, 'throat_irritation': 51, 'redness_of_eyes': 52, 'sinus_pressure': 53, 'runny_nose': 54, 'congestion': 55, 'chest_pain': 56, 'weakness_in_limbs': 57, 'fast_heart_rate': 58, 'pain_during_bowel_movements': 59, 'pain_in_anal_region': 60, 'bloody_stool': 61, 'irritation_in_anus': 62, 'neck_pain': 63, 'dizziness': 64, 'cramps': 65, 'bruising': 66, 'obesity': 67, 'swollen_legs': 68, 'swollen_blood_vessels': 69, 'puffy_face_and_eyes': 70, 'enlarged_thyroid': 71, 'brittle_nails': 72, 'swollen_extremeties': 73, 'excessive_hunger': 74, 'extra_marital_contacts': 75, 'drying_and_tingling_lips': 76, 'slurred_speech': 77, 'knee_pain': 78, 'hip_joint_pain': 79, 'muscle_weakness': 80, 'stiff_neck': 81, 'swelling_joints': 82, 'movement_stiffness': 83, 'spinning_movements': 84, 'loss_of_balance': 85, 'unsteadiness': 86, 'weakness_of_one_body_side': 87, 'loss_of_smell': 88, 'bladder_discomfort': 89, 'foul_smell_of urine': 90, 'continuous_feel_of_urine': 91, 'passage_of_gases': 92, 'internal_itching': 93, 'toxic_look_(typhos)': 94, 'depression': 95, 'irritability': 96, 'muscle_pain': 97, 'altered_sensorium': 98, 'red_spots_over_body': 99, 'belly_pain': 100, 'abnormal_menstruation': 101, 'dischromic _patches': 102, 'watering_from_eyes': 103, 'increased_appetite': 104, 'polyuria': 105, 'family_history': 106, 'mucoid_sputum': 107, 'rusty_sputum': 108, 'lack_of_concentration': 109, 'visual_disturbances': 110, 'receiving_blood_transfusion': 111, 'receiving_unsterile_injections': 112, 'coma': 113, 'stomach_bleeding': 114, 'distention_of_abdomen': 115, 'history_of_alcohol_consumption': 116, 'fluid_overload.1': 117, 'blood_in_sputum': 118, 'prominent_veins_on_calf': 119, 'palpitations': 120, 'painful_walking': 121, 'pus_filled_pimples': 122, 'blackheads': 123, 'scurring': 124, 'skin_peeling': 125, 'silver_like_dusting': 126, 'small_dents_in_nails': 127, 'inflammatory_nails': 128, 'blister': 129, 'red_sore_around_nose': 130, 'yellow_crust_ooze': 131}"
   ]
  },
  {
   "cell_type": "code",
   "execution_count": 3,
   "metadata": {},
   "outputs": [
    {
     "data": {
      "text/plain": [
       "dict"
      ]
     },
     "execution_count": 3,
     "metadata": {},
     "output_type": "execute_result"
    }
   ],
   "source": [
    "type(common)"
   ]
  },
  {
   "cell_type": "code",
   "execution_count": 4,
   "metadata": {},
   "outputs": [
    {
     "data": {
      "text/plain": [
       "dict"
      ]
     },
     "execution_count": 4,
     "metadata": {},
     "output_type": "execute_result"
    }
   ],
   "source": [
    "type(uncommon)"
   ]
  },
  {
   "cell_type": "code",
   "execution_count": 5,
   "metadata": {},
   "outputs": [
    {
     "data": {
      "text/plain": [
       "dict"
      ]
     },
     "execution_count": 5,
     "metadata": {},
     "output_type": "execute_result"
    }
   ],
   "source": [
    "type(all_ordered)"
   ]
  },
  {
   "cell_type": "code",
   "execution_count": 6,
   "metadata": {},
   "outputs": [],
   "source": [
    "with open(\"common.p\", \"wb\") as p:\n",
    "    pickle.dump(common, p)"
   ]
  },
  {
   "cell_type": "code",
   "execution_count": 7,
   "metadata": {},
   "outputs": [],
   "source": [
    "with open(\"uncommon.p\", \"wb\") as p:\n",
    "    pickle.dump(uncommon, p)"
   ]
  },
  {
   "cell_type": "code",
   "execution_count": 8,
   "metadata": {},
   "outputs": [],
   "source": [
    "with open(\"all_ordered.p\", \"wb\") as p:\n",
    "    pickle.dump(all_ordered, p)"
   ]
  },
  {
   "cell_type": "code",
   "execution_count": null,
   "metadata": {},
   "outputs": [],
   "source": []
  }
 ],
 "metadata": {
  "kernelspec": {
   "display_name": "Python 3",
   "language": "python",
   "name": "python3"
  },
  "language_info": {
   "codemirror_mode": {
    "name": "ipython",
    "version": 3
   },
   "file_extension": ".py",
   "mimetype": "text/x-python",
   "name": "python",
   "nbconvert_exporter": "python",
   "pygments_lexer": "ipython3",
   "version": "3.8.2"
  }
 },
 "nbformat": 4,
 "nbformat_minor": 4
}
